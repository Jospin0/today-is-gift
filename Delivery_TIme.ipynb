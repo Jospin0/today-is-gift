# today-is-gift
SEDIH BANGET *****
import pandas as pd
import numpy as np
import matplotlib.pyplot as plt
import seaborn as sn
from sklearn.model_selection import train_test_split
from sklearn.linear_model import LinearRegression
## CODE

# Membaca data
df = pd.read_csv('delivery_time.csv')

# Tampilkan data yang sudah di read
df.head()

# Memunculkan informasi dari data
df.info()

# Memunculkan statistika deskriptif
df.describe()

# Melihat kekosongan data
df.isnull().sum().sum()

# Membagi data / prepocesing data
x = df.iloc[:, :-1].values
y = df.iloc[:, -1]. values

# Menampilkan data di variabel x
x

# Menampilkan data di variabel y
y

# Melakukan split data
x_train,x_test,y_train,y_test = train_test_split(x,y,test_size=0.33, random_state=42)

# Melakukan pemodelan menggunakan fit
model = LinearRegression()

model.fit(x_train, y_train)

x_train

x_test

# Mengecek score pelatihan yang sudah kita lakukan
nilai = round(model.score(x_train,y_train)*100, 2)
print("score : ", nilai, "%")

# Melakukan prediksi
y_pred = model.predict(x_test)

# Mengecek score test yang sudah kita lakukan
nilai = round(model.score(x_test,y_test)*100, 2)
print("score : ", nilai, "%")

%matplotlib inline
plt.xlabel('Delivery Time')
plt.ylabel('Sorting Time')
plt.scatter(x,y)

# Melihat visualisasi dan melihat hubungannya

plt.scatter(x, y, color='blue')
plt.plot(x, model.predict(x), color='red')
plt.title('Visualisasi Menggunakan Linear Regression')
plt.xlabel('Delivery Time')
plt.ylabel('Sorting Time')
plt.show()

# Melakukan perbandingan menggunakan model yang sudah dibentuk dan secara matematis

n = float(input("Berapa lama Delivery Time anda : "))

prediction=model.predict([[n]])
print("Prediksi menggunakan pemodelan : ",prediction)
#Y=a + bX
print("\nPrediksi menggunakan perhitungan matematis",model.intercept_ + model.coef_*n)
